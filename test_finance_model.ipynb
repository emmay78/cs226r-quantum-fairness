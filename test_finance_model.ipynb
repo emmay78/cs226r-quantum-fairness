{
 "cells": [
  {
   "cell_type": "code",
   "execution_count": 2,
   "metadata": {},
   "outputs": [
    {
     "name": "stdout",
     "output_type": "stream",
     "text": [
      "Collecting qiskit-aer\n",
      "  Downloading qiskit_aer-0.14.1-cp310-cp310-macosx_10_9_x86_64.whl (2.5 MB)\n",
      "\u001b[2K     \u001b[90m━━━━━━━━━━━━━━━━━━━━━━━━━━━━━━━━━━━━━━━━\u001b[0m \u001b[32m2.5/2.5 MB\u001b[0m \u001b[31m15.1 MB/s\u001b[0m eta \u001b[36m0:00:00\u001b[0ma \u001b[36m0:00:01\u001b[0m\n",
      "\u001b[?25hRequirement already satisfied: scipy>=1.0 in /Users/emma/opt/miniconda3/envs/py22/lib/python3.10/site-packages (from qiskit-aer) (1.9.3)\n",
      "Requirement already satisfied: numpy>=1.16.3 in /Users/emma/opt/miniconda3/envs/py22/lib/python3.10/site-packages (from qiskit-aer) (1.23.4)\n",
      "Requirement already satisfied: psutil>=5 in /Users/emma/opt/miniconda3/envs/py22/lib/python3.10/site-packages (from qiskit-aer) (5.9.0)\n",
      "Requirement already satisfied: qiskit>=0.45.0 in /Users/emma/opt/miniconda3/envs/py22/lib/python3.10/site-packages (from qiskit-aer) (1.0.2)\n",
      "Requirement already satisfied: python-dateutil>=2.8.0 in /Users/emma/opt/miniconda3/envs/py22/lib/python3.10/site-packages (from qiskit>=0.45.0->qiskit-aer) (2.8.2)\n",
      "Requirement already satisfied: rustworkx>=0.14.0 in /Users/emma/opt/miniconda3/envs/py22/lib/python3.10/site-packages (from qiskit>=0.45.0->qiskit-aer) (0.14.2)\n",
      "Requirement already satisfied: typing-extensions in /Users/emma/opt/miniconda3/envs/py22/lib/python3.10/site-packages (from qiskit>=0.45.0->qiskit-aer) (4.10.0)\n",
      "Requirement already satisfied: symengine>=0.11 in /Users/emma/opt/miniconda3/envs/py22/lib/python3.10/site-packages (from qiskit>=0.45.0->qiskit-aer) (0.11.0)\n",
      "Requirement already satisfied: sympy>=1.3 in /Users/emma/opt/miniconda3/envs/py22/lib/python3.10/site-packages (from qiskit>=0.45.0->qiskit-aer) (1.11.1)\n",
      "Requirement already satisfied: dill>=0.3 in /Users/emma/opt/miniconda3/envs/py22/lib/python3.10/site-packages (from qiskit>=0.45.0->qiskit-aer) (0.3.7)\n",
      "Requirement already satisfied: stevedore>=3.0.0 in /Users/emma/opt/miniconda3/envs/py22/lib/python3.10/site-packages (from qiskit>=0.45.0->qiskit-aer) (5.2.0)\n",
      "Requirement already satisfied: six>=1.5 in /Users/emma/opt/miniconda3/envs/py22/lib/python3.10/site-packages (from python-dateutil>=2.8.0->qiskit>=0.45.0->qiskit-aer) (1.16.0)\n",
      "Requirement already satisfied: pbr!=2.1.0,>=2.0.0 in /Users/emma/opt/miniconda3/envs/py22/lib/python3.10/site-packages (from stevedore>=3.0.0->qiskit>=0.45.0->qiskit-aer) (6.0.0)\n",
      "Requirement already satisfied: mpmath>=0.19 in /Users/emma/opt/miniconda3/envs/py22/lib/python3.10/site-packages (from sympy>=1.3->qiskit>=0.45.0->qiskit-aer) (1.2.1)\n",
      "Installing collected packages: qiskit-aer\n",
      "Successfully installed qiskit-aer-0.14.1\n"
     ]
    }
   ],
   "source": [
    "!pip install qiskit-aer"
   ]
  },
  {
   "cell_type": "code",
   "execution_count": 9,
   "metadata": {},
   "outputs": [
    {
     "ename": "ImportError",
     "evalue": "cannot import name 'execute' from 'qiskit' (/Users/emma/opt/miniconda3/envs/py22/lib/python3.10/site-packages/qiskit/__init__.py)",
     "output_type": "error",
     "traceback": [
      "\u001b[0;31m---------------------------------------------------------------------------\u001b[0m",
      "\u001b[0;31mImportError\u001b[0m                               Traceback (most recent call last)",
      "Cell \u001b[0;32mIn[9], line 2\u001b[0m\n\u001b[1;32m      1\u001b[0m \u001b[38;5;66;03m# Import necessary modules from Qiskit\u001b[39;00m\n\u001b[0;32m----> 2\u001b[0m \u001b[38;5;28;01mfrom\u001b[39;00m \u001b[38;5;21;01mqiskit\u001b[39;00m \u001b[38;5;28;01mimport\u001b[39;00m QuantumCircuit, transpile, assemble, execute\n\u001b[1;32m      3\u001b[0m \u001b[38;5;28;01mfrom\u001b[39;00m \u001b[38;5;21;01mqiskit_aer\u001b[39;00m \u001b[38;5;28;01mimport\u001b[39;00m AerSimulator\n\u001b[1;32m      4\u001b[0m \u001b[38;5;28;01mfrom\u001b[39;00m \u001b[38;5;21;01mqiskit\u001b[39;00m\u001b[38;5;21;01m.\u001b[39;00m\u001b[38;5;21;01mcircuit\u001b[39;00m\u001b[38;5;21;01m.\u001b[39;00m\u001b[38;5;21;01mlibrary\u001b[39;00m \u001b[38;5;28;01mimport\u001b[39;00m RZGate, RYGate, RZZGate\n",
      "\u001b[0;31mImportError\u001b[0m: cannot import name 'execute' from 'qiskit' (/Users/emma/opt/miniconda3/envs/py22/lib/python3.10/site-packages/qiskit/__init__.py)"
     ]
    }
   ],
   "source": [
    "# Import necessary modules from Qiskit\n",
    "from qiskit import QuantumCircuit, transpile, assemble, execute\n",
    "from qiskit_aer import AerSimulator\n",
    "from qiskit.circuit.library import RZGate, RYGate, RZZGate\n",
    "\n",
    "# Define the Qiskit equivalent function\n",
    "def circuit2M(p, variables, noise_op=None, mixed=False):\n",
    "    num_qubits = 3  # Number of qubits, similar to WORKING_QUBITS\n",
    "    circuit = QuantumCircuit(num_qubits)\n",
    "\n",
    "    # Create iterables for variables\n",
    "    var_iter = iter(variables)\n",
    "\n",
    "    # Apply initial rotations for U1\n",
    "    for i in range(num_qubits):\n",
    "        circuit.append(RZGate(next(var_iter)), [i])\n",
    "    for i in range(num_qubits):\n",
    "        circuit.append(RYGate(next(var_iter)), [i])\n",
    "    for i in range(num_qubits):\n",
    "        circuit.append(RZGate(next(var_iter)), [i])\n",
    "\n",
    "    # Create a new circuit for U2 operations\n",
    "    for i in range(num_qubits):\n",
    "        j = (i + 1) % num_qubits\n",
    "        circuit.append(RZZGate(next(var_iter)), [i, j])\n",
    "    for i in range(num_qubits):\n",
    "        circuit.append(RZGate(next(var_iter)), [i])\n",
    "    for i in range(num_qubits):\n",
    "        circuit.append(RYGate(next(var_iter)), [i])\n",
    "    for i in range(num_qubits):\n",
    "        circuit.append(RZGate(next(var_iter)), [i])\n",
    "    for i in range(num_qubits):\n",
    "        j = (i + 1) % num_qubits\n",
    "        circuit.append(RZZGate(next(var_iter)), [i, j])\n",
    "\n",
    "    return circuit\n",
    "\n",
    "# Example variables for the gates\n",
    "variables = [0.2, 0.4, 0.6, 0.8, 1.0, 1.2, 1.4, 1.6, 1.8, 2.0, 2.2, 2.4]\n",
    "\n",
    "# Create the circuit\n",
    "circuit = circuit2M(p=0.01, variables=variables)\n",
    "\n",
    "# Visualize the circuit\n",
    "circuit.draw('mpl')\n"
   ]
  },
  {
   "cell_type": "code",
   "execution_count": null,
   "metadata": {},
   "outputs": [],
   "source": []
  }
 ],
 "metadata": {
  "kernelspec": {
   "display_name": "py22",
   "language": "python",
   "name": "python3"
  },
  "language_info": {
   "codemirror_mode": {
    "name": "ipython",
    "version": 3
   },
   "file_extension": ".py",
   "mimetype": "text/x-python",
   "name": "python",
   "nbconvert_exporter": "python",
   "pygments_lexer": "ipython3",
   "version": "3.10.8"
  }
 },
 "nbformat": 4,
 "nbformat_minor": 2
}
